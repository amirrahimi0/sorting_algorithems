{
 "cells": [
  {
   "cell_type": "code",
   "execution_count": 2,
   "metadata": {
    "collapsed": false,
    "deletable": true,
    "editable": true
   },
   "outputs": [
    {
     "ename": "ModuleNotFoundError",
     "evalue": "No module named 'pjdiagram'",
     "output_type": "error",
     "traceback": [
      "\u001b[0;31m---------------------------------------------------------------------------\u001b[0m",
      "\u001b[0;31mModuleNotFoundError\u001b[0m                       Traceback (most recent call last)",
      "Cell \u001b[0;32mIn[2], line 4\u001b[0m\n\u001b[1;32m      1\u001b[0m \u001b[38;5;28;01mimport\u001b[39;00m \u001b[38;5;21;01mnumpy\u001b[39;00m \u001b[38;5;28;01mas\u001b[39;00m \u001b[38;5;21;01mnp\u001b[39;00m\n\u001b[1;32m      3\u001b[0m \u001b[38;5;28;01mfrom\u001b[39;00m \u001b[38;5;21;01mIPython\u001b[39;00m\u001b[38;5;21;01m.\u001b[39;00m\u001b[38;5;21;01mdisplay\u001b[39;00m \u001b[38;5;28;01mimport\u001b[39;00m clear_output\n\u001b[0;32m----> 4\u001b[0m \u001b[38;5;28;01mfrom\u001b[39;00m \u001b[38;5;21;01mpjdiagram\u001b[39;00m \u001b[38;5;28;01mimport\u001b[39;00m \u001b[38;5;241m*\u001b[39m\n\u001b[1;32m      5\u001b[0m \u001b[38;5;28;01mfrom\u001b[39;00m \u001b[38;5;21;01mipywidgets\u001b[39;00m \u001b[38;5;28;01mimport\u001b[39;00m \u001b[38;5;241m*\u001b[39m\n\u001b[1;32m      7\u001b[0m \u001b[38;5;28;01mfrom\u001b[39;00m \u001b[38;5;21;01mmergesort\u001b[39;00m \u001b[38;5;28;01mimport\u001b[39;00m merge_sort_example\n",
      "\u001b[0;31mModuleNotFoundError\u001b[0m: No module named 'pjdiagram'"
     ]
    }
   ],
   "source": [
    "import numpy as np\n",
    "\n",
    "from IPython.display import clear_output\n",
    "from pjdiagram import *\n",
    "from ipywidgets import *\n",
    "\n",
    "from mergesort import merge_sort_example"
   ]
  },
  {
   "cell_type": "markdown",
   "metadata": {
    "deletable": true,
    "editable": true
   },
   "source": [
    "# Mergesort\n",
    "\n",
    "## Summary\n",
    "\n",
    "| Performance                 | Complexity       |\n",
    "|-----------------------------|------------------|\n",
    "|Worst-case                   | $O(n\\log{n})$       |\n",
    "|Best-case                    | $O(n\\log{n})$           |\n",
    "|Average                      | $O(n\\log{n})$       |\n",
    "|Worst-case space             | $O(n)$           |\n",
    "\n",
    "\n",
    "## Algorithm\n",
    "\n",
    "Recursively split list and then recursively merge them together in sorted order. Because the merge is done recursively, starting from the individual elements, the lists being merged together are guaranteed to be sorted."
   ]
  },
  {
   "cell_type": "code",
   "execution_count": null,
   "metadata": {
    "collapsed": false,
    "deletable": true,
    "editable": true
   },
   "outputs": [],
   "source": [
    "def mergesort(lst):\n",
    "    # this is an individual element\n",
    "    if len(lst) == 1: return lst\n",
    "    \n",
    "    # find the midpoint\n",
    "    mid = len(lst)/2\n",
    "    \n",
    "    # run mergesort on the left hand side\n",
    "    left = mergesort(lst[:mid])\n",
    "    \n",
    "    # run mergesort on the right hand side\n",
    "    right = mergesort(lst[mid:])\n",
    "    \n",
    "    # merge sorted lists back together\n",
    "    return merge(left, right)"
   ]
  },
  {
   "cell_type": "markdown",
   "metadata": {
    "deletable": true,
    "editable": true
   },
   "source": [
    "and to merge the lists back together, we just have to iterate over both lists picking whichever list has the smallest item. To do so, we'll keep two indices: `i` and `j`. It's possible one list is larger than the other (i.e. if the list is odd, then when split it will give two differently sized lists):"
   ]
  },
  {
   "cell_type": "code",
   "execution_count": null,
   "metadata": {
    "collapsed": true,
    "deletable": true,
    "editable": true
   },
   "outputs": [],
   "source": [
    "def merge(left, right):\n",
    "    # indices into left and right lists\n",
    "    i = j = 0\n",
    "    \n",
    "    # merged list\n",
    "    result = []\n",
    "    \n",
    "    # keep going until we've gone over every element within the list\n",
    "    while i < len(left) or j < len(right):\n",
    "        if i >= len(left):\n",
    "            # if left is empty, use right\n",
    "            result.append(right[j])\n",
    "            j += 1            \n",
    "        elif j >= len(right):\n",
    "            # if right is empty, use left\n",
    "            result.append(left[i])\n",
    "            i += 1            \n",
    "        elif left[i] < right[j]:\n",
    "            # if left is less than right, use left\n",
    "            result.append(left[i])\n",
    "            i += 1\n",
    "        else:\n",
    "            # otherwise use right\n",
    "            result.append(right[j])\n",
    "            j += 1\n",
    "            \n",
    "    return result"
   ]
  },
  {
   "cell_type": "markdown",
   "metadata": {
    "deletable": true,
    "editable": true
   },
   "source": [
    "Animation of `mergesort`:"
   ]
  },
  {
   "cell_type": "code",
   "execution_count": null,
   "metadata": {
    "collapsed": false,
    "deletable": true,
    "editable": true
   },
   "outputs": [
    {
     "ename": "NameError",
     "evalue": "name 'merge_sort_example' is not defined",
     "output_type": "error",
     "traceback": [
      "\u001b[0;31m---------------------------------------------------------------------------\u001b[0m",
      "\u001b[0;31mNameError\u001b[0m                                 Traceback (most recent call last)",
      "Cell \u001b[0;32mIn[1], line 1\u001b[0m\n\u001b[0;32m----> 1\u001b[0m \u001b[43mmerge_sort_example\u001b[49m([\u001b[38;5;241m5\u001b[39m, \u001b[38;5;241m2\u001b[39m, \u001b[38;5;241m1\u001b[39m, \u001b[38;5;241m20\u001b[39m, \u001b[38;5;241m10\u001b[39m, \u001b[38;5;241m3\u001b[39m, \u001b[38;5;241m4\u001b[39m, \u001b[38;5;241m80\u001b[39m])\n",
      "\u001b[0;31mNameError\u001b[0m: name 'merge_sort_example' is not defined"
     ]
    }
   ],
   "source": [
    "merge_sort_example([5, 2, 1, 20, 10, 3, 4, 80])"
   ]
  },
  {
   "cell_type": "markdown",
   "metadata": {
    "deletable": true,
    "editable": true
   },
   "source": [
    "Let's try out our code:"
   ]
  },
  {
   "cell_type": "code",
   "execution_count": null,
   "metadata": {
    "collapsed": false,
    "deletable": true,
    "editable": true
   },
   "outputs": [
    {
     "name": "stdout",
     "output_type": "stream",
     "text": [
      "[0, 1, 2, 3, 4, 5, 10, 20, 80]\n"
     ]
    }
   ],
   "source": [
    "lst = [5, 2, 1, 20, 10, 3, 4, 80, 0]\n",
    "sorted_list = mergesort(lst)\n",
    "print(sorted_list)"
   ]
  }
 ],
 "metadata": {
  "kernelspec": {
   "display_name": "base",
   "language": "python",
   "name": "python3"
  },
  "language_info": {
   "codemirror_mode": {
    "name": "ipython",
    "version": 3
   },
   "file_extension": ".py",
   "mimetype": "text/x-python",
   "name": "python",
   "nbconvert_exporter": "python",
   "pygments_lexer": "ipython3",
   "version": "3.10.13"
  },
  "widgets": {
   "state": {
    "fd9cffc642824837801d5c0e77194d73": {
     "views": [
      {
       "cell_index": 7
      }
     ]
    }
   },
   "version": "1.2.0"
  }
 },
 "nbformat": 4,
 "nbformat_minor": 2
}
